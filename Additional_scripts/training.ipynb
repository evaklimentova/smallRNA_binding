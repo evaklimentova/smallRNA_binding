{
  "nbformat": 4,
  "nbformat_minor": 0,
  "metadata": {
    "colab": {
      "name": "Training.ipynb",
      "provenance": [],
      "collapsed_sections": []
    },
    "kernelspec": {
      "name": "python3",
      "display_name": "Python 3"
    },
    "language_info": {
      "name": "python"
    }
  },
  "cells": [
    {
      "cell_type": "code",
      "metadata": {
        "id": "T6BIHgU38o2f"
      },
      "source": [
        "import pandas as pd\n",
        "import numpy as np\n",
        "import tensorflow as tf\n",
        "from tensorflow import keras as K\n",
        "import matplotlib.pyplot as plt\n",
        "from matplotlib.pyplot import figure\n",
        "from tensorflow.keras.layers import (\n",
        "                                BatchNormalization, LeakyReLU,\n",
        "                                Input, Dense, Conv2D,\n",
        "                                MaxPooling2D, Flatten, Dropout)\n",
        "from tensorflow.keras.optimizers import Adam"
      ],
      "execution_count": 1,
      "outputs": []
    },
    {
      "cell_type": "code",
      "metadata": {
        "colab": {
          "base_uri": "https://localhost:8080/"
        },
        "id": "EfIQCQj2r3fV",
        "outputId": "26867200-18e8-4b4e-d34d-129c7203f694"
      },
      "source": [
        "!wget https://raw.githubusercontent.com/ML-Bioinfo-CEITEC/miRBind/main/Datasets/train_set_1_10_CLASH2013_paper.tsv"
      ],
      "execution_count": 2,
      "outputs": [
        {
          "output_type": "stream",
          "name": "stdout",
          "text": [
            "--2022-04-24 17:22:50--  https://raw.githubusercontent.com/ML-Bioinfo-CEITEC/miRBind/main/Datasets/train_set_1_10_CLASH2013_paper.tsv\n",
            "Resolving raw.githubusercontent.com (raw.githubusercontent.com)... 185.199.108.133, 185.199.109.133, 185.199.110.133, ...\n",
            "Connecting to raw.githubusercontent.com (raw.githubusercontent.com)|185.199.108.133|:443... connected.\n",
            "HTTP request sent, awaiting response... 200 OK\n",
            "Length: 12518906 (12M) [text/plain]\n",
            "Saving to: ‘train_set_1_10_CLASH2013_paper.tsv’\n",
            "\n",
            "train_set_1_10_CLAS 100%[===================>]  11.94M  --.-KB/s    in 0.09s   \n",
            "\n",
            "2022-04-24 17:22:51 (130 MB/s) - ‘train_set_1_10_CLASH2013_paper.tsv’ saved [12518906/12518906]\n",
            "\n"
          ]
        }
      ]
    },
    {
      "cell_type": "code",
      "metadata": {
        "id": "ALmjW7vd9u60"
      },
      "source": [
        "def binding_encoding(df, tensor_dim=(50,20,1)):\n",
        "    \"\"\"\n",
        "    fun transform input database to numpy array.\n",
        "    \n",
        "    parameters:\n",
        "    df = Pandas df with col names \"noncodingRNA\", \"gene\", \"label\"\n",
        "    tensor_dim = 2d matrix shape\n",
        "    \n",
        "    output:\n",
        "    2d dot matrix, labels as np array\n",
        "    \"\"\"\n",
        "    df.reset_index(inplace=True, drop=True)\n",
        "\n",
        "    # alphabet for watson-crick interactions.\n",
        "    alphabet = {\"AT\": 1., \"TA\": 1., \"GC\": 1., \"CG\": 1.} \n",
        "\n",
        "    # labels to one hot encoding\n",
        "    labels = df[\"label\"].to_numpy()\n",
        "\n",
        "    # create empty main 2d matrix array\n",
        "    N = df.shape[0] # number of samples in df\n",
        "    shape_matrix_2d = (N, *tensor_dim) # 2d matrix shape \n",
        "    # initialize dot matrix with zeros\n",
        "    ohe_matrix_2d = np.zeros(shape_matrix_2d, dtype=\"float32\")\n",
        "\n",
        "    # compile matrix with watson-crick interactions.\n",
        "    for index, row in df.iterrows():        \n",
        "        for bind_index, bind_nt in enumerate(row.gene.upper()):\n",
        "        \n",
        "            for ncrna_index, ncrna_nt in enumerate(row.noncodingRNA.upper()):\n",
        "                if ncrna_index >= tensor_dim[1]:\n",
        "                    break\n",
        "                base_pairs = bind_nt + ncrna_nt\n",
        "                ohe_matrix_2d[index, bind_index, ncrna_index, 0] = alphabet.get(base_pairs, 0)\n",
        "    \n",
        "\n",
        "    return ohe_matrix_2d, labels"
      ],
      "execution_count": 3,
      "outputs": []
    },
    {
      "cell_type": "code",
      "metadata": {
        "id": "CpoytQwIElkg"
      },
      "source": [
        "def make_architecture():\n",
        "    \"\"\"\n",
        "    build model architecture\n",
        "\n",
        "    return a model object\n",
        "    \"\"\"\n",
        "    cnn_num = 6\n",
        "    kernel_size = 5\n",
        "    pool_size = 2\n",
        "    dropout_rate = 0.3\n",
        "    dense_num = 2\n",
        "\n",
        "    x = Input(shape=(50,20,1),\n",
        "                       dtype='float32', name='main_input'\n",
        "                       )\n",
        "    main_input = x\n",
        "\n",
        "    for cnn_i in range(cnn_num):\n",
        "        x = Conv2D(\n",
        "            filters=32 * (cnn_i + 1),\n",
        "            kernel_size=(kernel_size, kernel_size),\n",
        "            padding=\"same\",\n",
        "            data_format=\"channels_last\",\n",
        "            name=\"conv_\" + str(cnn_i + 1))(x)\n",
        "        x = LeakyReLU()(x)\n",
        "        x = BatchNormalization()(x)\n",
        "        x = MaxPooling2D(pool_size=(pool_size, pool_size), padding='same', name='Max_' + str(cnn_i + 1))(x)\n",
        "        x = Dropout(rate=dropout_rate)(x)\n",
        "\n",
        "    x = Flatten(name='2d_matrix')(x)\n",
        "\n",
        "    for dense_i in range(dense_num):\n",
        "        neurons = 32 * (cnn_num - dense_i)\n",
        "        x = Dense(neurons)(x)\n",
        "        x = LeakyReLU()(x)\n",
        "        x = BatchNormalization()(x)\n",
        "        x = Dropout(rate=dropout_rate)(x)\n",
        "\n",
        "    main_output = Dense(1, activation='sigmoid', name='main_output')(x)\n",
        "\n",
        "    model = K.Model(inputs=[main_input], outputs=[main_output], name='arch_00')\n",
        "    \n",
        "    return model"
      ],
      "execution_count": 4,
      "outputs": []
    },
    {
      "cell_type": "code",
      "metadata": {
        "id": "oZ591qC0Femi"
      },
      "source": [
        "def compile_model():\n",
        "    K.backend.clear_session()\n",
        "    model = make_architecture()\n",
        "    \n",
        "    opt = Adam(\n",
        "        learning_rate=0.00152,\n",
        "        beta_1=0.9,\n",
        "        beta_2=0.999,\n",
        "        epsilon=1e-07,\n",
        "        amsgrad=False,\n",
        "        name=\"Adam\")\n",
        "\n",
        "    model.compile(\n",
        "        optimizer=opt,\n",
        "        loss='binary_crossentropy',\n",
        "        metrics=['accuracy']\n",
        "        )\n",
        "    return model"
      ],
      "execution_count": 5,
      "outputs": []
    },
    {
      "cell_type": "code",
      "metadata": {
        "id": "wTB6K0lxyzcx"
      },
      "source": [
        "def plot_history(history):\n",
        "    \"\"\"\n",
        "    plot history of the training of the model,\n",
        "    accuracy and loss of the training and validation set\n",
        "    \"\"\"\n",
        "    \n",
        "    acc = history.history['accuracy']\n",
        "    val_acc = history.history['val_accuracy']\n",
        "    loss = history.history['loss']\n",
        "    val_loss = history.history['val_loss']\n",
        "\n",
        "    epochs = range(1, len(acc) + 1)\n",
        "\n",
        "    plt.figure(figsize=(8, 6), dpi=80)\n",
        "\n",
        "    plt.plot(epochs, acc, 'bo', label='Training acc')\n",
        "    plt.plot(epochs, val_acc, 'b', label='Validation acc')\n",
        "    plt.title('Accuracy')\n",
        "    plt.legend()\n",
        "    plt.figure()\n",
        "\n",
        "    plt.plot(epochs, loss, 'bo', label='Training loss')\n",
        "    plt.plot(epochs, val_loss, 'b', label='Validation loss')\n",
        "    plt.title('Loss')\n",
        "    plt.legend()\n",
        "    plt.show()"
      ],
      "execution_count": 6,
      "outputs": []
    },
    {
      "cell_type": "code",
      "metadata": {
        "colab": {
          "base_uri": "https://localhost:8080/"
        },
        "id": "3Bh2-XEPxmZf",
        "outputId": "3dffc4d8-d135-46fd-dcf4-94edb75db0cb"
      },
      "source": [
        "train_df = pd.read_csv('train_set_1_10_CLASH2013_paper.tsv', sep='\\t', names=['noncodingRNA', 'gene', 'label'], header=0)\n",
        "# set random state for reproducibility\n",
        "RANDOM_STATE = 42\n",
        "np.random.seed(RANDOM_STATE)\n",
        "train_df = train_df.sample(frac=1, random_state=RANDOM_STATE)\n",
        "print(train_df.head())\n",
        "ohe_data = binding_encoding(train_df)\n",
        "train_ohe, labels = ohe_data\n",
        "print(\"Number of training samples: \", train_df.shape[0])"
      ],
      "execution_count": 8,
      "outputs": [
        {
          "output_type": "stream",
          "name": "stdout",
          "text": [
            "                noncodingRNA  \\\n",
            "45236   ACTGCATTATGAGCACTTAA   \n",
            "168824  TATTGCACTTGTCCCGGCCT   \n",
            "2591    AAAAGCTGGGTTGAGAGGGC   \n",
            "76746   TCTCACACAGAAATCGCACC   \n",
            "63277   TGAGGTAGTAGTTTGTGCTG   \n",
            "\n",
            "                                                     gene  label  \n",
            "45236   GAGAAGAAATCTGGCTGGTTTGAGGGTTTCCTTTAGTTCACCCTCA...      0  \n",
            "168824  GTAAATGTCTGTTTTTCATAATTGCTCTTTATATTGTGTGTTATCT...      0  \n",
            "2591    GTACCCAGTAAAAACCAGAATGACCCATTGCCAGGACGCATCAAAG...      1  \n",
            "76746   ACGTCGGCGCCATGCTCCAGGTACAGAGCCACATGTTGCTCCAGGC...      0  \n",
            "63277   ACCAATGCCAGAGGAGCAACAGCGGCAACCTTTGGCACTGCATCCA...      0  \n",
            "Number of training samples:  169312\n"
          ]
        }
      ]
    },
    {
      "cell_type": "code",
      "metadata": {
        "colab": {
          "base_uri": "https://localhost:8080/"
        },
        "id": "Lcc6OuabyVsK",
        "outputId": "bb4e3fae-f08d-4d37-acfe-ff41c66e83eb"
      },
      "source": [
        "model = compile_model()\n",
        "model.summary()"
      ],
      "execution_count": 9,
      "outputs": [
        {
          "output_type": "stream",
          "name": "stdout",
          "text": [
            "Model: \"arch_00\"\n",
            "_________________________________________________________________\n",
            " Layer (type)                Output Shape              Param #   \n",
            "=================================================================\n",
            " main_input (InputLayer)     [(None, 50, 20, 1)]       0         \n",
            "                                                                 \n",
            " conv_1 (Conv2D)             (None, 50, 20, 32)        832       \n",
            "                                                                 \n",
            " leaky_re_lu (LeakyReLU)     (None, 50, 20, 32)        0         \n",
            "                                                                 \n",
            " batch_normalization (BatchN  (None, 50, 20, 32)       128       \n",
            " ormalization)                                                   \n",
            "                                                                 \n",
            " Max_1 (MaxPooling2D)        (None, 25, 10, 32)        0         \n",
            "                                                                 \n",
            " dropout (Dropout)           (None, 25, 10, 32)        0         \n",
            "                                                                 \n",
            " conv_2 (Conv2D)             (None, 25, 10, 64)        51264     \n",
            "                                                                 \n",
            " leaky_re_lu_1 (LeakyReLU)   (None, 25, 10, 64)        0         \n",
            "                                                                 \n",
            " batch_normalization_1 (Batc  (None, 25, 10, 64)       256       \n",
            " hNormalization)                                                 \n",
            "                                                                 \n",
            " Max_2 (MaxPooling2D)        (None, 13, 5, 64)         0         \n",
            "                                                                 \n",
            " dropout_1 (Dropout)         (None, 13, 5, 64)         0         \n",
            "                                                                 \n",
            " conv_3 (Conv2D)             (None, 13, 5, 96)         153696    \n",
            "                                                                 \n",
            " leaky_re_lu_2 (LeakyReLU)   (None, 13, 5, 96)         0         \n",
            "                                                                 \n",
            " batch_normalization_2 (Batc  (None, 13, 5, 96)        384       \n",
            " hNormalization)                                                 \n",
            "                                                                 \n",
            " Max_3 (MaxPooling2D)        (None, 7, 3, 96)          0         \n",
            "                                                                 \n",
            " dropout_2 (Dropout)         (None, 7, 3, 96)          0         \n",
            "                                                                 \n",
            " conv_4 (Conv2D)             (None, 7, 3, 128)         307328    \n",
            "                                                                 \n",
            " leaky_re_lu_3 (LeakyReLU)   (None, 7, 3, 128)         0         \n",
            "                                                                 \n",
            " batch_normalization_3 (Batc  (None, 7, 3, 128)        512       \n",
            " hNormalization)                                                 \n",
            "                                                                 \n",
            " Max_4 (MaxPooling2D)        (None, 4, 2, 128)         0         \n",
            "                                                                 \n",
            " dropout_3 (Dropout)         (None, 4, 2, 128)         0         \n",
            "                                                                 \n",
            " conv_5 (Conv2D)             (None, 4, 2, 160)         512160    \n",
            "                                                                 \n",
            " leaky_re_lu_4 (LeakyReLU)   (None, 4, 2, 160)         0         \n",
            "                                                                 \n",
            " batch_normalization_4 (Batc  (None, 4, 2, 160)        640       \n",
            " hNormalization)                                                 \n",
            "                                                                 \n",
            " Max_5 (MaxPooling2D)        (None, 2, 1, 160)         0         \n",
            "                                                                 \n",
            " dropout_4 (Dropout)         (None, 2, 1, 160)         0         \n",
            "                                                                 \n",
            " conv_6 (Conv2D)             (None, 2, 1, 192)         768192    \n",
            "                                                                 \n",
            " leaky_re_lu_5 (LeakyReLU)   (None, 2, 1, 192)         0         \n",
            "                                                                 \n",
            " batch_normalization_5 (Batc  (None, 2, 1, 192)        768       \n",
            " hNormalization)                                                 \n",
            "                                                                 \n",
            " Max_6 (MaxPooling2D)        (None, 1, 1, 192)         0         \n",
            "                                                                 \n",
            " dropout_5 (Dropout)         (None, 1, 1, 192)         0         \n",
            "                                                                 \n",
            " 2d_matrix (Flatten)         (None, 192)               0         \n",
            "                                                                 \n",
            " dense (Dense)               (None, 192)               37056     \n",
            "                                                                 \n",
            " leaky_re_lu_6 (LeakyReLU)   (None, 192)               0         \n",
            "                                                                 \n",
            " batch_normalization_6 (Batc  (None, 192)              768       \n",
            " hNormalization)                                                 \n",
            "                                                                 \n",
            " dropout_6 (Dropout)         (None, 192)               0         \n",
            "                                                                 \n",
            " dense_1 (Dense)             (None, 160)               30880     \n",
            "                                                                 \n",
            " leaky_re_lu_7 (LeakyReLU)   (None, 160)               0         \n",
            "                                                                 \n",
            " batch_normalization_7 (Batc  (None, 160)              640       \n",
            " hNormalization)                                                 \n",
            "                                                                 \n",
            " dropout_7 (Dropout)         (None, 160)               0         \n",
            "                                                                 \n",
            " main_output (Dense)         (None, 1)                 161       \n",
            "                                                                 \n",
            "=================================================================\n",
            "Total params: 1,865,665\n",
            "Trainable params: 1,863,617\n",
            "Non-trainable params: 2,048\n",
            "_________________________________________________________________\n"
          ]
        }
      ]
    },
    {
      "cell_type": "code",
      "metadata": {
        "id": "vIEbdJxqydNm"
      },
      "source": [
        "model_history = model.fit(\n",
        "    train_ohe, labels,\n",
        "    validation_split=0.05, epochs=10,\n",
        "    batch_size=32,\n",
        "    class_weight={0 : 1, 1 : 10}\n",
        "    )"
      ],
      "execution_count": null,
      "outputs": []
    },
    {
      "cell_type": "code",
      "metadata": {
        "id": "e4uUTu-k0Y2S"
      },
      "source": [
        "plot_history(model_history)"
      ],
      "execution_count": null,
      "outputs": []
    },
    {
      "cell_type": "code",
      "metadata": {
        "id": "WDSXwnZmymfK"
      },
      "source": [
        "model.save(\"model.h5\")"
      ],
      "execution_count": null,
      "outputs": []
    }
  ]
}